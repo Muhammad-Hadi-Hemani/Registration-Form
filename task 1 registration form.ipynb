{
 "cells": [
  {
   "cell_type": "code",
   "execution_count": 2,
   "id": "545fb8d6",
   "metadata": {},
   "outputs": [],
   "source": [
    "import tkinter as tk\n",
    "from tkinter import ttk\n",
    "\n",
    "from tkinter import *\n",
    "\n",
    "root = Tk()\n",
    "\n",
    "root.geometry(\"600x200\")\n",
    "\n",
    "root.title('Registration form')\n",
    "\n",
    "a=Label(root,text=\"Registration Form\",font=(\"bold\",30)).grid(row=0, column=0)\n",
    "\n",
    "\n",
    "b=Label(root,text=\"Full Name\",justify=tk.LEFT).grid(row=2, column=0)\n",
    "g=Entry(root).grid(row=2, column=2)\n",
    "\n",
    "c=Label(root,text=\"Email\",justify=tk.LEFT).grid(row=3, column=0)\n",
    "h=Entry(root).grid(row=3, column=2)\n",
    "\n",
    "d=Label(root,text=\"Gender\",justify=tk.LEFT).grid(row=4, column=0)\n",
    "v=IntVar()\n",
    "tk.Radiobutton(root,text=\"Male\",padx=20,variable=v,value=1).grid(row=4, column=2)\n",
    "tk.Radiobutton(root,text=\"Female\",padx=20,variable=v,value=2).grid(row=4, column=3)\n",
    "e=Label(root,text=\"Contry\",justify=tk.LEFT).grid(row=5, column=0)\n",
    "i=tk.StringVar()\n",
    "i_choosen=ttk.Combobox(root)\n",
    "i_choosen['value']=[\"Pakistan\",\"U.K\",\"USA\",\"Any other\"]\n",
    "i_choosen.grid(row=5, column=2)\n",
    "\n",
    "\n",
    "f=Label(root,text=\"Programming\",justify=tk.LEFT).grid(row=6, column=0)\n",
    "\n",
    "check1=Checkbutton (root,text=\"java\")\n",
    "\n",
    "check1.grid(row=6, column=2)\n",
    "\n",
    "\n",
    "check2=Checkbutton(root,text= \"python\")\n",
    "\n",
    "check2.grid(row=6, column=3)\n",
    "\n",
    "\n",
    "\n",
    "root.mainloop()"
   ]
  },
  {
   "cell_type": "code",
   "execution_count": null,
   "id": "dd7e586d",
   "metadata": {},
   "outputs": [],
   "source": []
  }
 ],
 "metadata": {
  "kernelspec": {
   "display_name": "Python 3 (ipykernel)",
   "language": "python",
   "name": "python3"
  },
  "language_info": {
   "codemirror_mode": {
    "name": "ipython",
    "version": 3
   },
   "file_extension": ".py",
   "mimetype": "text/x-python",
   "name": "python",
   "nbconvert_exporter": "python",
   "pygments_lexer": "ipython3",
   "version": "3.8.9"
  }
 },
 "nbformat": 4,
 "nbformat_minor": 5
}
